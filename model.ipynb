{
 "cells": [
  {
   "attachments": {},
   "cell_type": "markdown",
   "metadata": {},
   "source": [
    "Yiğithan Kardaş<br>\n",
    "201101003<br>\n",
    "y.kardas@etu.edu.tr"
   ]
  },
  {
   "attachments": {},
   "cell_type": "markdown",
   "metadata": {},
   "source": [
    "<div style=\"display: flex; justify-content: center;\">\n",
    "  <h1><b>YAP 470 Proje</b></h1>\n",
    "</div>"
   ]
  },
  {
   "attachments": {},
   "cell_type": "markdown",
   "metadata": {},
   "source": [
    "Veri setine göre eğitilecek olan modelin, öğrencilerin başarısını tahmin etmesi beklenen bir Makine Öğrenmesi projesidir."
   ]
  },
  {
   "attachments": {},
   "cell_type": "markdown",
   "metadata": {},
   "source": [
    "<div style=\"display: flex; justify-content: center;\">\n",
    "  <h1>Exploratory Data Analysis</h1>\n",
    "</div>"
   ]
  },
  {
   "attachments": {},
   "cell_type": "markdown",
   "metadata": {},
   "source": [
    "Gerekli kütüphaneleri *import* edelim."
   ]
  },
  {
   "cell_type": "code",
   "execution_count": 384,
   "metadata": {},
   "outputs": [],
   "source": [
    "import pandas as pd\n",
    "import numpy as np\n",
    "import matplotlib.pyplot as plt\n",
    "import seaborn as sns"
   ]
  },
  {
   "attachments": {},
   "cell_type": "markdown",
   "metadata": {},
   "source": [
    "Eğitim verisini dosyadan okuyoruz ve *DataFrame*'e çeviriyoruz."
   ]
  },
  {
   "cell_type": "code",
   "execution_count": 385,
   "metadata": {},
   "outputs": [],
   "source": [
    "df = pd.read_csv('./train.csv')"
   ]
  },
  {
   "attachments": {},
   "cell_type": "markdown",
   "metadata": {},
   "source": [
    "Veri setinde __234__ satır ve __33__ sütun var."
   ]
  },
  {
   "cell_type": "code",
   "execution_count": 386,
   "metadata": {},
   "outputs": [
    {
     "data": {
      "text/plain": [
       "(234, 33)"
      ]
     },
     "execution_count": 386,
     "metadata": {},
     "output_type": "execute_result"
    }
   ],
   "source": [
    "df.shape"
   ]
  },
  {
   "attachments": {},
   "cell_type": "markdown",
   "metadata": {},
   "source": [
    "Veri setinde görüldüğü üzere sadece sayısal değerler yok, *string* tipinde değerler de var."
   ]
  },
  {
   "cell_type": "code",
   "execution_count": 387,
   "metadata": {},
   "outputs": [
    {
     "data": {
      "text/html": [
       "<div>\n",
       "<style scoped>\n",
       "    .dataframe tbody tr th:only-of-type {\n",
       "        vertical-align: middle;\n",
       "    }\n",
       "\n",
       "    .dataframe tbody tr th {\n",
       "        vertical-align: top;\n",
       "    }\n",
       "\n",
       "    .dataframe thead th {\n",
       "        text-align: right;\n",
       "    }\n",
       "</style>\n",
       "<table border=\"1\" class=\"dataframe\">\n",
       "  <thead>\n",
       "    <tr style=\"text-align: right;\">\n",
       "      <th></th>\n",
       "      <th>school</th>\n",
       "      <th>sex</th>\n",
       "      <th>age</th>\n",
       "      <th>address</th>\n",
       "      <th>famsize</th>\n",
       "      <th>Pstatus</th>\n",
       "      <th>Medu</th>\n",
       "      <th>Fedu</th>\n",
       "      <th>Mjob</th>\n",
       "      <th>Fjob</th>\n",
       "      <th>...</th>\n",
       "      <th>famrel</th>\n",
       "      <th>freetime</th>\n",
       "      <th>goout</th>\n",
       "      <th>Dalc</th>\n",
       "      <th>Walc</th>\n",
       "      <th>health</th>\n",
       "      <th>absences</th>\n",
       "      <th>G1</th>\n",
       "      <th>G2</th>\n",
       "      <th>G3</th>\n",
       "    </tr>\n",
       "  </thead>\n",
       "  <tbody>\n",
       "    <tr>\n",
       "      <th>0</th>\n",
       "      <td>GP</td>\n",
       "      <td>F</td>\n",
       "      <td>18</td>\n",
       "      <td>U</td>\n",
       "      <td>GT3</td>\n",
       "      <td>A</td>\n",
       "      <td>4</td>\n",
       "      <td>4</td>\n",
       "      <td>at_home</td>\n",
       "      <td>teacher</td>\n",
       "      <td>...</td>\n",
       "      <td>4</td>\n",
       "      <td>3</td>\n",
       "      <td>4</td>\n",
       "      <td>1</td>\n",
       "      <td>1</td>\n",
       "      <td>3</td>\n",
       "      <td>6</td>\n",
       "      <td>5</td>\n",
       "      <td>6</td>\n",
       "      <td>6</td>\n",
       "    </tr>\n",
       "    <tr>\n",
       "      <th>1</th>\n",
       "      <td>GP</td>\n",
       "      <td>F</td>\n",
       "      <td>17</td>\n",
       "      <td>U</td>\n",
       "      <td>GT3</td>\n",
       "      <td>T</td>\n",
       "      <td>1</td>\n",
       "      <td>1</td>\n",
       "      <td>at_home</td>\n",
       "      <td>other</td>\n",
       "      <td>...</td>\n",
       "      <td>5</td>\n",
       "      <td>3</td>\n",
       "      <td>3</td>\n",
       "      <td>1</td>\n",
       "      <td>1</td>\n",
       "      <td>3</td>\n",
       "      <td>4</td>\n",
       "      <td>5</td>\n",
       "      <td>5</td>\n",
       "      <td>6</td>\n",
       "    </tr>\n",
       "    <tr>\n",
       "      <th>2</th>\n",
       "      <td>GP</td>\n",
       "      <td>F</td>\n",
       "      <td>15</td>\n",
       "      <td>U</td>\n",
       "      <td>LE3</td>\n",
       "      <td>T</td>\n",
       "      <td>1</td>\n",
       "      <td>1</td>\n",
       "      <td>at_home</td>\n",
       "      <td>other</td>\n",
       "      <td>...</td>\n",
       "      <td>4</td>\n",
       "      <td>3</td>\n",
       "      <td>2</td>\n",
       "      <td>2</td>\n",
       "      <td>3</td>\n",
       "      <td>3</td>\n",
       "      <td>10</td>\n",
       "      <td>7</td>\n",
       "      <td>8</td>\n",
       "      <td>10</td>\n",
       "    </tr>\n",
       "    <tr>\n",
       "      <th>3</th>\n",
       "      <td>GP</td>\n",
       "      <td>F</td>\n",
       "      <td>15</td>\n",
       "      <td>U</td>\n",
       "      <td>GT3</td>\n",
       "      <td>T</td>\n",
       "      <td>4</td>\n",
       "      <td>2</td>\n",
       "      <td>health</td>\n",
       "      <td>services</td>\n",
       "      <td>...</td>\n",
       "      <td>3</td>\n",
       "      <td>2</td>\n",
       "      <td>2</td>\n",
       "      <td>1</td>\n",
       "      <td>1</td>\n",
       "      <td>5</td>\n",
       "      <td>2</td>\n",
       "      <td>15</td>\n",
       "      <td>14</td>\n",
       "      <td>15</td>\n",
       "    </tr>\n",
       "    <tr>\n",
       "      <th>4</th>\n",
       "      <td>GP</td>\n",
       "      <td>F</td>\n",
       "      <td>16</td>\n",
       "      <td>U</td>\n",
       "      <td>GT3</td>\n",
       "      <td>T</td>\n",
       "      <td>3</td>\n",
       "      <td>3</td>\n",
       "      <td>other</td>\n",
       "      <td>other</td>\n",
       "      <td>...</td>\n",
       "      <td>4</td>\n",
       "      <td>3</td>\n",
       "      <td>2</td>\n",
       "      <td>1</td>\n",
       "      <td>2</td>\n",
       "      <td>5</td>\n",
       "      <td>4</td>\n",
       "      <td>6</td>\n",
       "      <td>10</td>\n",
       "      <td>10</td>\n",
       "    </tr>\n",
       "  </tbody>\n",
       "</table>\n",
       "<p>5 rows × 33 columns</p>\n",
       "</div>"
      ],
      "text/plain": [
       "  school sex  age address famsize Pstatus  Medu  Fedu     Mjob      Fjob  ...  \\\n",
       "0     GP   F   18       U     GT3       A     4     4  at_home   teacher  ...   \n",
       "1     GP   F   17       U     GT3       T     1     1  at_home     other  ...   \n",
       "2     GP   F   15       U     LE3       T     1     1  at_home     other  ...   \n",
       "3     GP   F   15       U     GT3       T     4     2   health  services  ...   \n",
       "4     GP   F   16       U     GT3       T     3     3    other     other  ...   \n",
       "\n",
       "  famrel freetime  goout  Dalc  Walc health absences  G1  G2  G3  \n",
       "0      4        3      4     1     1      3        6   5   6   6  \n",
       "1      5        3      3     1     1      3        4   5   5   6  \n",
       "2      4        3      2     2     3      3       10   7   8  10  \n",
       "3      3        2      2     1     1      5        2  15  14  15  \n",
       "4      4        3      2     1     2      5        4   6  10  10  \n",
       "\n",
       "[5 rows x 33 columns]"
      ]
     },
     "execution_count": 387,
     "metadata": {},
     "output_type": "execute_result"
    }
   ],
   "source": [
    "df.head()"
   ]
  },
  {
   "attachments": {},
   "cell_type": "markdown",
   "metadata": {},
   "source": [
    "Bunu, sütun tiplerine bakarak da doğruluyoruz."
   ]
  },
  {
   "cell_type": "code",
   "execution_count": 388,
   "metadata": {},
   "outputs": [
    {
     "data": {
      "text/plain": [
       "school        object\n",
       "sex           object\n",
       "age            int64\n",
       "address       object\n",
       "famsize       object\n",
       "Pstatus       object\n",
       "Medu           int64\n",
       "Fedu           int64\n",
       "Mjob          object\n",
       "Fjob          object\n",
       "reason        object\n",
       "guardian      object\n",
       "traveltime     int64\n",
       "studytime      int64\n",
       "failures       int64\n",
       "schoolsup     object\n",
       "famsup        object\n",
       "paid          object\n",
       "activities    object\n",
       "nursery       object\n",
       "higher        object\n",
       "internet      object\n",
       "romantic      object\n",
       "famrel         int64\n",
       "freetime       int64\n",
       "goout          int64\n",
       "Dalc           int64\n",
       "Walc           int64\n",
       "health         int64\n",
       "absences       int64\n",
       "G1             int64\n",
       "G2             int64\n",
       "G3             int64\n",
       "dtype: object"
      ]
     },
     "execution_count": 388,
     "metadata": {},
     "output_type": "execute_result"
    }
   ],
   "source": [
    "df.dtypes"
   ]
  },
  {
   "attachments": {},
   "cell_type": "markdown",
   "metadata": {},
   "source": [
    "Bizim bu veri setinde amacımız, __G3__ hariç geri kalan 32 sütunla modeli eğitip test verilerinde __G3__ değerini tahmin etmek."
   ]
  },
  {
   "attachments": {},
   "cell_type": "markdown",
   "metadata": {},
   "source": [
    "Veri setindeki sütunların açıklamarı şunlardır:<br>\n",
    "- __school__: Öğrencinin okulu\n",
    "    - __GP__: Gabriel Pereira\n",
    "    - __MS__: Mousinho da Silveira\n",
    "- __sex__: Öğrencinin cinsiyeti\n",
    "    - __F__: Kadın\n",
    "    - __M__: Erkek\n",
    "- __age__: Öğrencinin yaşı\n",
    "- __address__: Öğrencinin adresi\n",
    "    - __U__: Urban(Kent)\n",
    "    - __R__: Rural(Kırsal)\n",
    "- __famsize__: Öğrencinin aile büyüklüğü\n",
    "    - __GT3__: 3'ten fazla\n",
    "    - __LE3__: 3'ten az\n",
    "- __Pstatus__: Ebeveynlerin birlikte yaşama durumu\n",
    "    - __A__: Ayrı\n",
    "    - __T__: Birlikte\n",
    "- __Medu__: Annenin öğrenim durumu\n",
    "    - __0__: Yok\n",
    "    - __1__: İlköğretim (4. sınıfa kadar)\n",
    "    - __2__: 5 - 9. sınıf arası\n",
    "    - __3__: Ortaöğretim\n",
    "    - __4__: Yükseköğretim\n",
    "- __Fedu__: Babanın öğrenim durumu\n",
    "    - __0__: Yok\n",
    "    - __1__: İlköğretim (4. sınıfa kadar)\n",
    "    - __2__: 5 - 9. sınıf arası\n",
    "    - __3__: Ortaöğretim\n",
    "    - __4__: Yükseköğretim\n",
    "- __Mjob__: Annenin mesleği\n",
    "    - __at_home__: Çalışmıyor\n",
    "    - __health__: Sağlık sektörü\n",
    "    - __services__: Kamu hizmetleri\n",
    "    - __teacher__: Öğretmen\n",
    "    - __other__: Diğer\n",
    "- __Fjob__: Babanın mesleği\n",
    "    - __at_home__: Çalışmıyor\n",
    "    - __health__: Sağlık sektörü\n",
    "    - __services__: Kamu hizmetleri\n",
    "    - __teacher__: Öğretmen\n",
    "    - __other__: Diğer\n",
    "- __reason__: Bu okulu tercih etme sebebi\n",
    "    - __course__: Kurs tercihi\n",
    "    - __home__: Eve yakınlık\n",
    "    - __reputation__: Okulun itibarı/ünü\n",
    "    - __other__: Diğer\n",
    "- __guardian__: Öğrencinin velisi\n",
    "    - __mother__: Anne\n",
    "    - __father__: Baba\n",
    "    - __other__: Diğer\n",
    "- __traveltime__: Evden okula gelme süresi\n",
    "    - __1__: 15 dakikadan az\n",
    "    - __2__: 15 - 30 dakika arası\n",
    "    - __3__: 30 - 60 dakika arası\n",
    "    - __4__: 1 saatten fazla\n",
    "- __studytime__: Öğrencinin haftalık çalışma saati\n",
    "    - __1__: 2 saatten az\n",
    "    - __2__: 2 - 5 saat arası\n",
    "    - __3__: 5 - 10 saat arası\n",
    "    - __4__: 10 saatten fazla\n",
    "- __failures__: Geçmişte başarısız olunan ders sayısı\n",
    "    - __0__: 0\n",
    "    - __1__: 1\n",
    "    - __2__: 2\n",
    "    - __3__: 3\n",
    "- __schoolsup__: Ekstra öğrenim desteği\n",
    "    - __yes__: Var\n",
    "    - __no__: Yok\n",
    "- __famsup__: Ailenin öğrenim desteği\n",
    "    - __yes__: Var\n",
    "    - __no__: Yok\n",
    "- __paid__: Ders konusu dahilinde ekstra ücretli dersler (Matematik veya Portekizce)\n",
    "    - __yes__: Var\n",
    "    - __no__: Yok\n",
    "- __activities__: Müfredat dışı etkinlikler\n",
    "    - __yes__: Var\n",
    "    - __no__: Yok\n",
    "- __nursery__: Öğrenci anaokuluna gitti mi?\n",
    "    - __yes__: Evet\n",
    "    - __no__: Hayır\n",
    "- __higher__: Öğrenci yükseköğrenim görmek istiyor mu?\n",
    "    - __yes__: Evet\n",
    "    - __no__: Hayır\n",
    "- __internet__: Öğrencinin evde internet erişimi var mı?\n",
    "    - __yes__: Evet\n",
    "    - __no__: Hayır\n",
    "- __romantic__: Öğrencinin romantik ilişkisi var mı?\n",
    "    - __yes__: vVar\n",
    "    - __no__: Yok\n",
    "- __famrel__: Öğrencinin ailesiyle ilişkisinin kalitesi\n",
    "    - __1__: Çok kötü\n",
    "    - __2__: Kötü\n",
    "    - __3__: Normal\n",
    "    - __4__: İyi\n",
    "    - __5__: Çok iyi\n",
    "- __freetime__: Öğrencinin okuldan sonra boş zamanı\n",
    "    - __1__: Çok az\n",
    "    - __2__: Az\n",
    "    - __3__: Normal\n",
    "    - __4__: Fazla\n",
    "    - __5__: Çok fazla\n",
    "- __goout__: Öğrencinin arkadaşlarıyla dışarı çıkma sıklığı\n",
    "    - __1__: Çok az\n",
    "    - __2__: Az\n",
    "    - __3__: Normal\n",
    "    - __4__: Fazla\n",
    "    - __5__: Çok fazla\n",
    "- __Dalc__: Öğrencinin hafta içi alkol tüketimi\n",
    "    - __1__: Çok az\n",
    "    - __2__: Az\n",
    "    - __3__: Normal\n",
    "    - __4__: Fazla\n",
    "    - __5__: Çok fazla\n",
    "- __Walc__: Öğrencinin hafta sonu alkol tüketimi\n",
    "    - __1__: Çok az\n",
    "    - __2__: Az\n",
    "    - __3__: Normal\n",
    "    - __4__: Fazla\n",
    "    - __5__: Çok fazla\n",
    "- __health__: Öğrencinin sağlık durumu\n",
    "    - __1__: Çok kötü\n",
    "    - __2__: Kötü\n",
    "    - __3__: Normal\n",
    "    - __4__: İyi\n",
    "    - __5__: Çok iyi\n",
    "- __absences__: Öğrencinin devamsızlık sayısı\n",
    "- __G1__: Öğrencinin 1. sınav notu\n",
    "- __G2__: Öğrencinin 2. sınav notu\n",
    "- __G3__: Öğrencinin final notu"
   ]
  },
  {
   "attachments": {},
   "cell_type": "markdown",
   "metadata": {},
   "source": [
    "Tüm *string*'leri sayısal veriye çevirdik. Ayrıca *natural order*'a sahip olmayan verileri de *one-hot* türüne çevirdik."
   ]
  },
  {
   "cell_type": "code",
   "execution_count": 389,
   "metadata": {},
   "outputs": [],
   "source": [
    "g1 = df['G1']\n",
    "g2 = df['G2']\n",
    "g3 = df['G3']\n",
    "df = df.drop(labels=['G1', 'G2', 'G3'], axis=1)"
   ]
  },
  {
   "cell_type": "code",
   "execution_count": 390,
   "metadata": {},
   "outputs": [
    {
     "data": {
      "text/html": [
       "<div>\n",
       "<style scoped>\n",
       "    .dataframe tbody tr th:only-of-type {\n",
       "        vertical-align: middle;\n",
       "    }\n",
       "\n",
       "    .dataframe tbody tr th {\n",
       "        vertical-align: top;\n",
       "    }\n",
       "\n",
       "    .dataframe thead th {\n",
       "        text-align: right;\n",
       "    }\n",
       "</style>\n",
       "<table border=\"1\" class=\"dataframe\">\n",
       "  <thead>\n",
       "    <tr style=\"text-align: right;\">\n",
       "      <th></th>\n",
       "      <th>age</th>\n",
       "      <th>traveltime</th>\n",
       "      <th>studytime</th>\n",
       "      <th>failures</th>\n",
       "      <th>Dalc</th>\n",
       "      <th>Walc</th>\n",
       "      <th>absences</th>\n",
       "      <th>school_GP</th>\n",
       "      <th>sex_F</th>\n",
       "      <th>sex_M</th>\n",
       "      <th>...</th>\n",
       "      <th>health_1</th>\n",
       "      <th>health_2</th>\n",
       "      <th>health_3</th>\n",
       "      <th>health_4</th>\n",
       "      <th>health_5</th>\n",
       "      <th>paid_no</th>\n",
       "      <th>paid_yes</th>\n",
       "      <th>G1</th>\n",
       "      <th>G2</th>\n",
       "      <th>G3</th>\n",
       "    </tr>\n",
       "  </thead>\n",
       "  <tbody>\n",
       "    <tr>\n",
       "      <th>0</th>\n",
       "      <td>18</td>\n",
       "      <td>2</td>\n",
       "      <td>2</td>\n",
       "      <td>0</td>\n",
       "      <td>1</td>\n",
       "      <td>1</td>\n",
       "      <td>6</td>\n",
       "      <td>1</td>\n",
       "      <td>1</td>\n",
       "      <td>0</td>\n",
       "      <td>...</td>\n",
       "      <td>0</td>\n",
       "      <td>0</td>\n",
       "      <td>1</td>\n",
       "      <td>0</td>\n",
       "      <td>0</td>\n",
       "      <td>1</td>\n",
       "      <td>0</td>\n",
       "      <td>5</td>\n",
       "      <td>6</td>\n",
       "      <td>6</td>\n",
       "    </tr>\n",
       "    <tr>\n",
       "      <th>1</th>\n",
       "      <td>17</td>\n",
       "      <td>1</td>\n",
       "      <td>2</td>\n",
       "      <td>0</td>\n",
       "      <td>1</td>\n",
       "      <td>1</td>\n",
       "      <td>4</td>\n",
       "      <td>1</td>\n",
       "      <td>1</td>\n",
       "      <td>0</td>\n",
       "      <td>...</td>\n",
       "      <td>0</td>\n",
       "      <td>0</td>\n",
       "      <td>1</td>\n",
       "      <td>0</td>\n",
       "      <td>0</td>\n",
       "      <td>1</td>\n",
       "      <td>0</td>\n",
       "      <td>5</td>\n",
       "      <td>5</td>\n",
       "      <td>6</td>\n",
       "    </tr>\n",
       "    <tr>\n",
       "      <th>2</th>\n",
       "      <td>15</td>\n",
       "      <td>1</td>\n",
       "      <td>2</td>\n",
       "      <td>3</td>\n",
       "      <td>2</td>\n",
       "      <td>3</td>\n",
       "      <td>10</td>\n",
       "      <td>1</td>\n",
       "      <td>1</td>\n",
       "      <td>0</td>\n",
       "      <td>...</td>\n",
       "      <td>0</td>\n",
       "      <td>0</td>\n",
       "      <td>1</td>\n",
       "      <td>0</td>\n",
       "      <td>0</td>\n",
       "      <td>0</td>\n",
       "      <td>1</td>\n",
       "      <td>7</td>\n",
       "      <td>8</td>\n",
       "      <td>10</td>\n",
       "    </tr>\n",
       "    <tr>\n",
       "      <th>3</th>\n",
       "      <td>15</td>\n",
       "      <td>1</td>\n",
       "      <td>3</td>\n",
       "      <td>0</td>\n",
       "      <td>1</td>\n",
       "      <td>1</td>\n",
       "      <td>2</td>\n",
       "      <td>1</td>\n",
       "      <td>1</td>\n",
       "      <td>0</td>\n",
       "      <td>...</td>\n",
       "      <td>0</td>\n",
       "      <td>0</td>\n",
       "      <td>0</td>\n",
       "      <td>0</td>\n",
       "      <td>1</td>\n",
       "      <td>0</td>\n",
       "      <td>1</td>\n",
       "      <td>15</td>\n",
       "      <td>14</td>\n",
       "      <td>15</td>\n",
       "    </tr>\n",
       "    <tr>\n",
       "      <th>4</th>\n",
       "      <td>16</td>\n",
       "      <td>1</td>\n",
       "      <td>2</td>\n",
       "      <td>0</td>\n",
       "      <td>1</td>\n",
       "      <td>2</td>\n",
       "      <td>4</td>\n",
       "      <td>1</td>\n",
       "      <td>1</td>\n",
       "      <td>0</td>\n",
       "      <td>...</td>\n",
       "      <td>0</td>\n",
       "      <td>0</td>\n",
       "      <td>0</td>\n",
       "      <td>0</td>\n",
       "      <td>1</td>\n",
       "      <td>0</td>\n",
       "      <td>1</td>\n",
       "      <td>6</td>\n",
       "      <td>10</td>\n",
       "      <td>10</td>\n",
       "    </tr>\n",
       "  </tbody>\n",
       "</table>\n",
       "<p>5 rows × 82 columns</p>\n",
       "</div>"
      ],
      "text/plain": [
       "   age  traveltime  studytime  failures  Dalc  Walc  absences  school_GP  \\\n",
       "0   18           2          2         0     1     1         6          1   \n",
       "1   17           1          2         0     1     1         4          1   \n",
       "2   15           1          2         3     2     3        10          1   \n",
       "3   15           1          3         0     1     1         2          1   \n",
       "4   16           1          2         0     1     2         4          1   \n",
       "\n",
       "   sex_F  sex_M  ...  health_1  health_2  health_3  health_4  health_5  \\\n",
       "0      1      0  ...         0         0         1         0         0   \n",
       "1      1      0  ...         0         0         1         0         0   \n",
       "2      1      0  ...         0         0         1         0         0   \n",
       "3      1      0  ...         0         0         0         0         1   \n",
       "4      1      0  ...         0         0         0         0         1   \n",
       "\n",
       "   paid_no  paid_yes  G1  G2  G3  \n",
       "0        1         0   5   6   6  \n",
       "1        1         0   5   5   6  \n",
       "2        0         1   7   8  10  \n",
       "3        0         1  15  14  15  \n",
       "4        0         1   6  10  10  \n",
       "\n",
       "[5 rows x 82 columns]"
      ]
     },
     "execution_count": 390,
     "metadata": {},
     "output_type": "execute_result"
    }
   ],
   "source": [
    "df_numeric = pd.get_dummies(df, columns=['school', 'sex', 'address', 'famsize', 'Pstatus', 'Medu', 'Fedu', 'Mjob', 'Fjob', 'reason', 'guardian', 'schoolsup', 'famsup', 'activities', 'nursery', 'higher', 'internet', 'romantic', 'famrel', 'freetime', 'goout', 'health', 'paid'])\n",
    "df_numeric['G1'] = g1\n",
    "df_numeric['G2'] = g2\n",
    "df_numeric['G3'] = g3\n",
    "df_numeric.head()"
   ]
  },
  {
   "attachments": {},
   "cell_type": "markdown",
   "metadata": {},
   "source": [
    "Veri setinde *NaN* veir yok."
   ]
  },
  {
   "cell_type": "code",
   "execution_count": 391,
   "metadata": {},
   "outputs": [
    {
     "data": {
      "text/plain": [
       "age           0\n",
       "traveltime    0\n",
       "studytime     0\n",
       "failures      0\n",
       "Dalc          0\n",
       "             ..\n",
       "paid_no       0\n",
       "paid_yes      0\n",
       "G1            0\n",
       "G2            0\n",
       "G3            0\n",
       "Length: 82, dtype: int64"
      ]
     },
     "execution_count": 391,
     "metadata": {},
     "output_type": "execute_result"
    }
   ],
   "source": [
    "df_numeric.isna().sum()"
   ]
  },
  {
   "attachments": {},
   "cell_type": "markdown",
   "metadata": {},
   "source": [
    "Veri setinde birbirinin kopyası olan herhangi iki veri yok."
   ]
  },
  {
   "cell_type": "code",
   "execution_count": 392,
   "metadata": {},
   "outputs": [
    {
     "data": {
      "text/plain": [
       "0"
      ]
     },
     "execution_count": 392,
     "metadata": {},
     "output_type": "execute_result"
    }
   ],
   "source": [
    "df_numeric.duplicated().sum()"
   ]
  },
  {
   "cell_type": "code",
   "execution_count": 393,
   "metadata": {},
   "outputs": [
    {
     "data": {
      "image/png": "[encoded data removed]",
      "text/plain": [
       "<Figure size 640x480 with 2 Axes>"
      ]
     },
     "metadata": {},
     "output_type": "display_data"
    }
   ],
   "source": [
    "fig, axes = plt.subplots(nrows=1, ncols=2)\n",
    "df_numeric.plot(kind='scatter', x='G1', y='G3', ax=axes[0])\n",
    "df_numeric.plot(kind='scatter', x='G2', y='G3', ax=axes[1])\n",
    "plt.show()"
   ]
  },
  {
   "attachments": {},
   "cell_type": "markdown",
   "metadata": {},
   "source": [
    "<div style=\"display: flex; justify-content: center;\">\n",
    "  <h1><b>Modeli Eğitmek</b></h1>\n",
    "</div>"
   ]
  },
  {
   "cell_type": "code",
   "execution_count": 394,
   "metadata": {},
   "outputs": [],
   "source": [
    "from sklearn.tree import DecisionTreeRegressor\n",
    "from sklearn.linear_model import LinearRegression\n",
    "from sklearn.ensemble import RandomForestRegressor\n",
    "from sklearn.linear_model import ElasticNet\n",
    "import sklearn.metrics as sm"
   ]
  },
  {
   "cell_type": "code",
   "execution_count": 395,
   "metadata": {},
   "outputs": [],
   "source": [
    "dtr = DecisionTreeRegressor(max_depth=5)\n",
    "rfr = RandomForestRegressor(max_depth=5)\n",
    "lr = LinearRegression()\n",
    "ela = ElasticNet()"
   ]
  },
  {
   "cell_type": "code",
   "execution_count": 396,
   "metadata": {},
   "outputs": [],
   "source": [
    "X_train = df_numeric.values.tolist()\n",
    "y_train = [];\n",
    "column_length = len(X_train[0])\n",
    "for row in X_train:\n",
    "    y_train.append(int(row[column_length - 1]));\n",
    "    del row[column_length - 1];\n",
    "\n",
    "X_train=pd.Series(X_train).tolist();\n",
    "y_train=pd.Series(y_train).tolist();"
   ]
  },
  {
   "cell_type": "code",
   "execution_count": 397,
   "metadata": {},
   "outputs": [],
   "source": [
    "df_test = pd.read_csv('./test.csv')\n",
    "g1_test = df_test['G1']\n",
    "g2_test = df_test['G2']\n",
    "g3_test = df_test['G3']\n",
    "df_test = df_test.drop(labels=['G1', 'G2', 'G3'], axis=1)\n",
    "df_test = pd.get_dummies(df_test, columns=['school', 'sex', 'address', 'famsize', 'Pstatus', 'Medu', 'Fedu', 'Mjob', 'Fjob', 'reason', 'guardian', 'schoolsup', 'famsup', 'activities', 'nursery', 'higher', 'internet', 'romantic', 'famrel', 'freetime', 'goout', 'health', 'paid'])\n",
    "df_test['G1'] = g1_test\n",
    "df_test['G2'] = g2_test\n",
    "df_test['G3'] = g3_test"
   ]
  },
  {
   "cell_type": "code",
   "execution_count": 398,
   "metadata": {},
   "outputs": [],
   "source": [
    "X_test = df_test.values.tolist()\n",
    "y_test = []\n",
    "for row in X_test:\n",
    "    y_test.append(int(row[column_length - 1]));\n",
    "    del row[column_length - 1];\n",
    "\n",
    "X_test=pd.Series(X_test).tolist();\n",
    "y_test=pd.Series(y_test).tolist();"
   ]
  },
  {
   "cell_type": "code",
   "execution_count": 399,
   "metadata": {},
   "outputs": [
    {
     "name": "stdout",
     "output_type": "stream",
     "text": [
      "0.6792920392311445\n"
     ]
    }
   ],
   "source": [
    "dtr.fit(X_train, y_train)\n",
    "predict = dtr.predict(X_test)\n",
    "print(sm.r2_score(y_pred=predict, y_true=y_test))"
   ]
  },
  {
   "cell_type": "code",
   "execution_count": 400,
   "metadata": {},
   "outputs": [
    {
     "name": "stdout",
     "output_type": "stream",
     "text": [
      "-8.740972834957976e+22\n"
     ]
    }
   ],
   "source": [
    "lr.fit(X_train, y_train)\n",
    "predict2 = lr.predict(X_test)\n",
    "print(sm.r2_score(y_pred=predict2, y_true=y_test))"
   ]
  },
  {
   "cell_type": "code",
   "execution_count": 401,
   "metadata": {},
   "outputs": [
    {
     "name": "stdout",
     "output_type": "stream",
     "text": [
      "0.7584910645106142\n"
     ]
    }
   ],
   "source": [
    "rfr.fit(X_train, y_train)\n",
    "predict = rfr.predict(X_test)\n",
    "print(sm.r2_score(y_pred=predict, y_true=y_test))"
   ]
  },
  {
   "cell_type": "code",
   "execution_count": 402,
   "metadata": {},
   "outputs": [
    {
     "name": "stdout",
     "output_type": "stream",
     "text": [
      "0.7236911390023042\n"
     ]
    }
   ],
   "source": [
    "ela.fit(X_train, y_train)\n",
    "predict = ela.predict(X_test)\n",
    "print(sm.r2_score(y_pred=predict, y_true=y_test))"
   ]
  }
 ],
 "metadata": {
  "kernelspec": {
   "display_name": "base",
   "language": "python",
   "name": "python3"
  },
  "language_info": {
   "codemirror_mode": {
    "name": "ipython",
    "version": 3
   },
   "file_extension": ".py",
   "mimetype": "text/x-python",
   "name": "python",
   "nbconvert_exporter": "python",
   "pygments_lexer": "ipython3",
   "version": "3.11.3"
  },
  "orig_nbformat": 4
 },
 "nbformat": 4,
 "nbformat_minor": 2
}
